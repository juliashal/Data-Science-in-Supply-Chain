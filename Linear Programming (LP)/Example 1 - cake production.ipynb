{
 "cells": [
  {
   "cell_type": "code",
   "execution_count": 3,
   "metadata": {},
   "outputs": [
    {
     "name": "stdout",
     "output_type": "stream",
     "text": [
      "Produce 0.0 cake A\n",
      "Produce 11.0 cake A\n"
     ]
    },
    {
     "name": "stderr",
     "output_type": "stream",
     "text": [
      "c:\\Projects\\Data Science and Supply Chain analytics\\Data Science in Supply Chain\\.venv\\lib\\site-packages\\pulp\\pulp.py:1352: UserWarning: Spaces are not permitted in the name. Converted to '_'\n",
      "  warnings.warn(\"Spaces are not permitted in the name. Converted to '_'\")\n"
     ]
    }
   ],
   "source": [
    "from pulp import *\n",
    "\n",
    "#Initiliaze Class\n",
    "model = LpProblem(\"Max Profit\",LpMaximize)\n",
    "\n",
    "#Define Decision Variables\n",
    "A = LpVariable('A', lowBound=0, cat='Integer')\n",
    "B = LpVariable('B', lowBound=0, cat='Integer')\n",
    "\n",
    "#Define Objective Function\n",
    "model += 20*A + 40*B\n",
    "\n",
    "#Define Constraints\n",
    "model += 0.5*A +1*B <= 30\n",
    "model += 1*A + 2.5*B <= 60\n",
    "model += 1*A + 2*B <= 22\n",
    "\n",
    "#Solve Modle\n",
    "model.solve()\n",
    "print(f'Produce {A.varValue} cake A')\n",
    "print(f'Produce {B.varValue} cake B')"
   ]
  }
 ],
 "metadata": {
  "kernelspec": {
   "display_name": ".venv",
   "language": "python",
   "name": "python3"
  },
  "language_info": {
   "codemirror_mode": {
    "name": "ipython",
    "version": 3
   },
   "file_extension": ".py",
   "mimetype": "text/x-python",
   "name": "python",
   "nbconvert_exporter": "python",
   "pygments_lexer": "ipython3",
   "version": "3.10.4"
  },
  "orig_nbformat": 4
 },
 "nbformat": 4,
 "nbformat_minor": 2
}
