{
 "cells": [
  {
   "cell_type": "code",
   "execution_count": 1,
   "metadata": {},
   "outputs": [
    {
     "ename": "",
     "evalue": "",
     "output_type": "error",
     "traceback": [
      "\u001b[1;31mCannot execute code, session has been disposed. Please try restarting the Kernel."
     ]
    },
    {
     "ename": "",
     "evalue": "",
     "output_type": "error",
     "traceback": [
      "\u001b[1;31mThe Kernel crashed while executing code in the the current cell or a previous cell. Please review the code in the cell(s) to identify a possible cause of the failure. Click <a href='https://aka.ms/vscodeJupyterKernelCrash'>here</a> for more info. View Jupyter <a href='command:jupyter.viewOutput'>log</a> for further details."
     ]
    }
   ],
   "source": [
    "from pulp import *\n",
    "\n",
    "# Initialize Model\n",
    "model = LpProblem(\"Minimize Transportation Costs\", LpMinimize)\n",
    "\n",
    "# Build the lists and the demand dictionary\n",
    "warehouse = [\"New York\", \"Atlanta\"]\n",
    "customers = [\"East\", \"South\", \"Midwest\", \"West\"]\n",
    "regional_demand = [1800, 1200, 1100, 1000]\n",
    "costs = {\n",
    "    (\"New York\", \"East\"): 211,\n",
    "    (\"New York\", \"South\"): 232,\n",
    "    (\"New York\", \"Midwest\"): 240,\n",
    "    (\"New York\", \"West\"): 300,\n",
    "    (\"Atlanta\", \"East\"): 232,\n",
    "    (\"Atlanta\", \"South\"): 212,\n",
    "    (\"Atlanta\", \"Midwest\"): 230,\n",
    "    (\"Atlanta\", \"West\"): 280,\n",
    "}\n",
    "var_dict = {\n",
    "    (\"New York\", \"East\"): \"ne\",\n",
    "    (\"New York\", \"South\"): \"ns\",\n",
    "    (\"New York\", \"Midwest\"): \"nm\",\n",
    "    (\"New York\", \"West\"): \"nw\",\n",
    "    (\"Atlanta\", \"East\"): \"atle\",\n",
    "    (\"Atlanta\", \"South\"): \"atls\",\n",
    "    (\"Atlanta\", \"Midwest\"): \"atlm\",\n",
    "    (\"Atlanta\", \"West\"): \"atlw\",\n",
    "}\n",
    "\n",
    "demand = dict(zip(customers, regional_demand))\n",
    "\n",
    "# Define Objective\n",
    "model += lpSum([costs[(w, c)] * var_dict[(w, c)] for c in customers for w in warehouse])\n",
    "\n",
    "# For each customer, sum warehouse shipments and set equal to customer demand\n",
    "for c in customers:\n",
    "    model += lpSum([var_dict[(w, c)] for w in warehouse]) == demand[c]"
   ]
  }
 ],
 "metadata": {
  "kernelspec": {
   "display_name": ".venv",
   "language": "python",
   "name": "python3"
  },
  "language_info": {
   "codemirror_mode": {
    "name": "ipython",
    "version": 3
   },
   "file_extension": ".py",
   "mimetype": "text/x-python",
   "name": "python",
   "nbconvert_exporter": "python",
   "pygments_lexer": "ipython3",
   "version": "3.10.4"
  },
  "orig_nbformat": 4
 },
 "nbformat": 4,
 "nbformat_minor": 2
}
