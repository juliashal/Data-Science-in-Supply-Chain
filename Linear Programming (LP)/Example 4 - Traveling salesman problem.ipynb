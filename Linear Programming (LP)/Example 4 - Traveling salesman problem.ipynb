{
 "cells": [
  {
   "cell_type": "markdown",
   "metadata": {},
   "source": [
    "Traveling salesman problem (TSP)\n",
    "\n",
    "The Traveling Salesman Problem (TSP) is a popular problem and has applications is logistics. In the TSP a salesman is given a list of cities, and the distance between each pair. He is looking for the shortest route going from the origin through all points before going back to the origin city again. This is a computationally difficult problem to solve but Miller-Tucker-Zemlin (MTZ) showed it can be completed using Integer Linear Programing. In this exercise you are going to define the objective and some constraints for of the TSP for a small dataset with 15 cities (see the image below). Your goal is to try out using LpVariable.dicts with list comprehension.\n",
    "\n",
    "\n",
    "Three Python variables n, cities, and dist have been created for you . The n variable is the number of cities, cities is a list of the cities numbered and dist is a pandas DataFrame with the pairwise distance between each city. You can explore them in the console. Additionally, the model has been initialized for you.\n",
    "\n",
    "\n",
    "1. Dataset come from Gerhard Reinelt,TSPLIB - A Traveling Salesman Problem Library, ORSA Journal on Computing,\n"
   ]
  },
  {
   "cell_type": "code",
   "execution_count": null,
   "metadata": {},
   "outputs": [],
   "source": [
    "# Define Decision Variables\n",
    "x = LpVariable.dicts('X', [(c1, c2) for c1 in cities for c2 in cities], \n",
    "                     cat='Binary')\n",
    "u = LpVariable.dicts('U', [c1 for c1 in cities], \n",
    "                     lowBound=0, upBound=(n-1), cat='Integer')\n",
    "\n",
    "# Define Objective\n",
    "model += lpSum([dist.iloc[c1, c2] * x[(c1, c2)] \n",
    "                for c1 in cities for c2 in cities])\n",
    "\n",
    "# Define Constraints\n",
    "'''In the first set of constraints if we loop through the list of destination cities we should sum over the departure cities and ensure they sum to 1.'''\n",
    "for c2 in cities:\n",
    "    model += lpSum([x[(c1, c2)] for c1 in cities]) == 1\n",
    "'''In the second set of constraints if we loop through the list of arrival cities we should sum over the departure cities and ensure they sum to 1.'''\n",
    "for c1 in cities:\n",
    "    model += lpSum([x[(c1, c2)] for c2 in cities]) == 1"
   ]
  }
 ],
 "metadata": {
  "kernelspec": {
   "display_name": ".venv",
   "language": "python",
   "name": "python3"
  },
  "language_info": {
   "name": "python",
   "version": "3.10.4"
  },
  "orig_nbformat": 4
 },
 "nbformat": 4,
 "nbformat_minor": 2
}
