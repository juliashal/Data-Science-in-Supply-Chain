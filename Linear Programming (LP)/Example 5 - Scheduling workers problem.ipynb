{
 "cells": [
  {
   "cell_type": "code",
   "execution_count": 1,
   "metadata": {},
   "outputs": [],
   "source": [
    "from pulp import *"
   ]
  },
  {
   "cell_type": "code",
   "execution_count": 2,
   "metadata": {},
   "outputs": [
    {
     "name": "stderr",
     "output_type": "stream",
     "text": [
      "c:\\Projects\\Data Science and Supply Chain analytics\\Data Science in Supply Chain\\.venv\\lib\\site-packages\\pulp\\pulp.py:1352: UserWarning: Spaces are not permitted in the name. Converted to '_'\n",
      "  warnings.warn(\"Spaces are not permitted in the name. Converted to '_'\")\n"
     ]
    }
   ],
   "source": [
    "model = LpProblem(\"Minimize Staffing\", LpMinimize)\n",
    "days = list(range(7))\n",
    "x = LpVariable.dicts('staff_',days,lowBound=0,cat='Integer')\n",
    "model += lpSum(x[i] for i in days)\n",
    "#x[i] - the number of workers starting on a specific day"
   ]
  },
  {
   "cell_type": "code",
   "execution_count": 3,
   "metadata": {},
   "outputs": [],
   "source": [
    "#Define Constraints\n",
    "#x[i] - the number of workers starting on a specific day\n",
    "#To define the constraints, we recognize the pattern - skipping the 2 days a worker would be off.\n",
    "model += x[0]+x[3]+x[4]+x[5]+x[6]>=11\n",
    "model += x[0]+x[1]+x[4]+x[5]+x[6]>=14\n",
    "model += x[0]+x[1]+x[2]+x[5]+x[6]>=23\n",
    "model += x[0]+x[1]+x[2]+x[3]+x[6]>=21\n",
    "model += x[0]+x[1]+x[2]+x[3]+x[4]>=20\n",
    "model += x[1]+x[2]+x[3]+x[4]+x[5]>=15\n",
    "model += x[2]+x[3]+x[4]+x[5]+x[6]>=8"
   ]
  },
  {
   "cell_type": "code",
   "execution_count": 4,
   "metadata": {},
   "outputs": [
    {
     "data": {
      "text/plain": [
       "1"
      ]
     },
     "execution_count": 4,
     "metadata": {},
     "output_type": "execute_result"
    }
   ],
   "source": [
    "model.solve()"
   ]
  },
  {
   "cell_type": "code",
   "execution_count": 6,
   "metadata": {},
   "outputs": [
    {
     "name": "stdout",
     "output_type": "stream",
     "text": [
      "8.0 of drivers started on day 0\n",
      "8.0 of drivers started on day 1\n",
      "5.0 of drivers started on day 2\n",
      "1.0 of drivers started on day 3\n",
      "0.0 of drivers started on day 4\n",
      "1.0 of drivers started on day 5\n",
      "1.0 of drivers started on day 6\n"
     ]
    }
   ],
   "source": [
    "for i in days:\n",
    "    print(f\"{x[i].varValue} of drivers started on day {i}\")"
   ]
  }
 ],
 "metadata": {
  "kernelspec": {
   "display_name": ".venv",
   "language": "python",
   "name": "python3"
  },
  "language_info": {
   "codemirror_mode": {
    "name": "ipython",
    "version": 3
   },
   "file_extension": ".py",
   "mimetype": "text/x-python",
   "name": "python",
   "nbconvert_exporter": "python",
   "pygments_lexer": "ipython3",
   "version": "3.10.4"
  },
  "orig_nbformat": 4
 },
 "nbformat": 4,
 "nbformat_minor": 2
}
