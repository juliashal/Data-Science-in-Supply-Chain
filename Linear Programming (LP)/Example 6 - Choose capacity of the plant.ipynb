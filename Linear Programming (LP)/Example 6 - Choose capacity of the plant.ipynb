{
 "cells": [
  {
   "cell_type": "markdown",
   "metadata": {},
   "source": [
    "You are given four Pandas data frames demand, var_cost, fix_cost, and cap containing the regional demand (thous. of cars), variable production costs (thous. $US), fixed production costs (thous. $US), and production capacity (thous. of cars). Two python lists loc, and size have also been created, containing the different locations, and the two types of plant capacities. All these variables have been printed to the console for your viewing. The code to initialize, and defined the decision variables has been completed for you."
   ]
  },
  {
   "cell_type": "markdown",
   "metadata": {},
   "source": [
    "It makes sense that x is continuous because the units of demand and plant capacity are in millions of cars which you can have fractions of millions of cars. Overall, you correctly created the needed variables for the capacitated plant location model."
   ]
  },
  {
   "cell_type": "code",
   "execution_count": null,
   "metadata": {},
   "outputs": [],
   "source": [
    "from pulp import *\n",
    "import pandas as pd\n",
    "\n",
    "# Initialize, and Define Decision Vars.\n",
    "model = LpProblem(\"Capacitated Plant Location Model\", LpMinimize)\n",
    "\n",
    "#Define Decision Variables\n",
    "loc = ['USA', 'Germany', 'Japan', 'Brazil', 'India']\n",
    "size = ['Low_Cap','High_Cap']\n",
    "x = LpVariable.dicts(\"production_\", [(i,j) for i in loc for j in loc],\n",
    "                     lowBound=0, upBound=None, cat='Continous')\n",
    "y = LpVariable.dicts(\"plant_\", \n",
    "                     [(i,s) for s in size for i in loc], cat='Binary')\n",
    "\n",
    "# Define objective function\n",
    "model += (lpSum([fix_cost.loc[i,s] * y[(i,s)] \n",
    "                 for s in size for i in loc])\n",
    "          + lpSum([var_cost.loc[i,j] * x[(i,j)] \n",
    "                   for i in loc for j in loc]))\n",
    "\n",
    "# Define Constraints\n",
    "# Total production = Total Demand\n",
    "for j in loc:\n",
    "    model += lpSum([x[(i,j)] for i in loc]) == demand.loc[j,'Dmd']\n",
    "\n",
    "# total production should be less than production capacity\n",
    "for i in loc:\n",
    "    model += lpSum([x[(i,j)] for j in loc]) <= lpSum([cap.loc[i,s]*y[(i,s)] for s in size])\n",
    "\n",
    "model.solve()\n",
    "LpStatus[model.status]\n",
    "\n",
    "for v in model.variables():\n",
    "    print(v.name, '=', v.varValue)\n",
    "\n",
    "# What is expected cost of this supply chain network model?\n",
    "value(model.objective)\n",
    "\n",
    "# If demand increases in a region, how much profit is needed to cover the costs of production and shipping to that region? Shadow price\n",
    "\n",
    "# Which regions still have production capacity for future demand increase? Slack\n",
    "\n",
    "o = [{'name': name, 'shadow price':c.pi, 'slack':c.slack}\n",
    "     for name, c in model.constraints.items()]\n",
    "\n",
    "print(pd.DataFrame(o))"
   ]
  }
 ],
 "metadata": {
  "kernelspec": {
   "display_name": ".venv",
   "language": "python",
   "name": "python3"
  },
  "language_info": {
   "name": "python",
   "version": "3.10.4"
  },
  "orig_nbformat": 4
 },
 "nbformat": 4,
 "nbformat_minor": 2
}
