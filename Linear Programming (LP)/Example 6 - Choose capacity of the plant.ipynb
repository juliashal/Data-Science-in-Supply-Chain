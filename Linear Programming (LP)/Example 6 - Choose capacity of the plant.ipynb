{
 "cells": [
  {
   "cell_type": "markdown",
   "metadata": {},
   "source": [
    "You are given four Pandas data frames demand, var_cost, fix_cost, and cap containing the regional demand (thous. of cars), variable production costs (thous. $US), fixed production costs (thous. $US), and production capacity (thous. of cars). Two python lists loc, and size have also been created, containing the different locations, and the two types of plant capacities. All these variables have been printed to the console for your viewing. The code to initialize, and defined the decision variables has been completed for you."
   ]
  },
  {
   "cell_type": "code",
   "execution_count": null,
   "metadata": {},
   "outputs": [],
   "source": [
    "from pulp import *\n",
    "\n",
    "# Initialize, and Define Decision Vars.\n",
    "model = LpProblem(\"Capacitated Plant Location Model\", LpMinimize)\n",
    "loc = ['USA', 'Germany', 'Japan', 'Brazil', 'India']\n",
    "size = ['Low_Cap','High_Cap']\n",
    "x = LpVariable.dicts(\"production_\", [(i,j) for i in loc for j in loc],\n",
    "                     lowBound=0, upBound=None, cat='Continous')\n",
    "y = LpVariable.dicts(\"plant_\", \n",
    "                     [(i,s) for s in size for i in loc], cat='Binary')\n",
    "\n",
    "# Define objective function\n",
    "model += (lpSum([fix_cost.loc[i,s] * y[(i,s)] \n",
    "                 for s in size for i in loc])\n",
    "          + lpSum([var_cost.loc[i,j] * x[(i,j)] \n",
    "                   for i in loc for j in loc]))"
   ]
  },
  {
   "cell_type": "markdown",
   "metadata": {},
   "source": [
    "It makes sense that x is continuous because the units of demand and plant capacity are in millions of cars which you can have fractions of millions of cars. Overall, you correctly created the needed variables for the capacitated plant location model."
   ]
  }
 ],
 "metadata": {
  "kernelspec": {
   "display_name": ".venv",
   "language": "python",
   "name": "python3"
  },
  "language_info": {
   "name": "python",
   "version": "3.10.4"
  },
  "orig_nbformat": 4
 },
 "nbformat": 4,
 "nbformat_minor": 2
}
