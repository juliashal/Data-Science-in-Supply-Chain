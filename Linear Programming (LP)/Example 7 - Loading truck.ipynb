{
 "cells": [
  {
   "cell_type": "markdown",
   "metadata": {},
   "source": [
    "Our customer has ordered six products to be delivered over the next month. You will need to ship multiple truck loads to deliver all of the products. There is a weight limit on your trucks of 25,000 lbs. For cash flow reasons you desire to ship the most profitable combination of products that can fit on your truck. \n"
   ]
  },
  {
   "cell_type": "code",
   "execution_count": 1,
   "metadata": {},
   "outputs": [
    {
     "name": "stdout",
     "output_type": "stream",
     "text": [
      "A status 0.0\n",
      "B status 1.0\n",
      "C status 0.0\n",
      "D status 0.0\n",
      "E status 1.0\n",
      "F status 0.0\n"
     ]
    },
    {
     "name": "stderr",
     "output_type": "stream",
     "text": [
      "c:\\Projects\\Data Science and Supply Chain analytics\\Data Science in Supply Chain\\.venv\\lib\\site-packages\\pulp\\pulp.py:1352: UserWarning: Spaces are not permitted in the name. Converted to '_'\n",
      "  warnings.warn(\"Spaces are not permitted in the name. Converted to '_'\")\n"
     ]
    }
   ],
   "source": [
    "from pulp import *\n",
    "\n",
    "weight = {'A': 12583, 'B': 9204, 'C': 12611, 'D': 12131, 'E': 12889, 'F': 11529}\n",
    "prof = {'A': 102564, 'B': 130043, 'C': 127648, 'D': 155058, 'E': 238846, 'F': 197030}\n",
    "prod = ['A', 'B', 'C', 'D', 'E', 'F']\n",
    "\n",
    "model = LpProblem(\"Loading Truck Problem\", LpMaximize)\n",
    "x = LpVariable.dicts('ship_', prod, cat='Binary')\n",
    "model += lpSum([prof[i] * x[i] for i in prod])\n",
    "\n",
    "\n",
    "# Define Constraint\n",
    "#Add a constraint to ensure the total weight of the truck is less than or equal to 25,000 lbs.\n",
    "model += lpSum([weight[i] * x[i] for i in prod]) <= 25000\n",
    "#Add a constraint so that the model will, at most, select only one of the products between D, E, and F.\n",
    "model += x['D'] + x['E'] + x['F'] <=1\n",
    "\n",
    "model.solve()\n",
    "for i in prod:\n",
    "    print(\"{} status {}\".format(i, x[i].varValue))"
   ]
  }
 ],
 "metadata": {
  "kernelspec": {
   "display_name": ".venv",
   "language": "python",
   "name": "python3"
  },
  "language_info": {
   "codemirror_mode": {
    "name": "ipython",
    "version": 3
   },
   "file_extension": ".py",
   "mimetype": "text/x-python",
   "name": "python",
   "nbconvert_exporter": "python",
   "pygments_lexer": "ipython3",
   "version": "3.10.4"
  },
  "orig_nbformat": 4
 },
 "nbformat": 4,
 "nbformat_minor": 2
}
