{
 "cells": [
  {
   "cell_type": "markdown",
   "metadata": {},
   "source": [
    "You are working to minimize the transportation costs of shipping products from warehouses in New York, and Atlanta, to customers in the East, South, Midwest, and West regions of the US. The input data of transportation costs and demand for each region is given to you in the variable d which is printed in the console."
   ]
  },
  {
   "cell_type": "code",
   "execution_count": null,
   "metadata": {},
   "outputs": [],
   "source": [
    "# Add noise to the objective function\n",
    "model += lpSum([(X[(c, w)] + (d.loc[c, w] + random.normalvariate(0, 5)))\n",
    "                for w in wh for c in cust])\n",
    "\n",
    "# Call the function 100 times and append results to list\n",
    "output = []\n",
    "for i in range(100):\n",
    "    output.append(run_pulp_model(d))\n",
    "df = pd.DataFrame(output)\n",
    "\n",
    "# Print the value count df series Midwest from Atlanta\n",
    "print(df['Midwest from Atlanta'].value_counts())\n",
    "\n",
    "# Print the value count df series East from Atlanta\n",
    "print(df['East from Atlanta'].value_counts())"
   ]
  }
 ],
 "metadata": {
  "language_info": {
   "name": "python"
  },
  "orig_nbformat": 4
 },
 "nbformat": 4,
 "nbformat_minor": 2
}
